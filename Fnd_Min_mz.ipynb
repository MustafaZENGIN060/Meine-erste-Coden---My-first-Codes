{
  "nbformat": 4,
  "nbformat_minor": 0,
  "metadata": {
    "colab": {
      "name": "Fnd_Min_mz.ipynb",
      "provenance": [],
      "collapsed_sections": []
    },
    "kernelspec": {
      "name": "python3",
      "display_name": "Python 3"
    },
    "language_info": {
      "name": "python"
    }
  },
  "cells": [
    {
      "cell_type": "code",
      "execution_count": null,
      "metadata": {
        "id": "aEardqAP6wRd"
      },
      "outputs": [],
      "source": [
        "def my_min(*number):\n",
        "    liste=[]\n",
        "    for i in number:\n",
        "      liste.append(i)\n",
        "    enaz=min(liste)\n",
        "    return(enaz)\n",
        "    "
      ]
    }
  ]
}