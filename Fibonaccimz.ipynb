{
  "nbformat": 4,
  "nbformat_minor": 0,
  "metadata": {
    "colab": {
      "name": "Untitled21.ipynb",
      "provenance": [],
      "collapsed_sections": []
    },
    "kernelspec": {
      "name": "python3",
      "display_name": "Python 3"
    },
    "language_info": {
      "name": "python"
    }
  },
  "cells": [
    {
      "cell_type": "code",
      "metadata": {
        "colab": {
          "base_uri": "https://localhost:8080/"
        },
        "id": "yY7FYtnRPC6i",
        "outputId": "a3cd25ee-66f2-4291-8992-bb9cd4603e5a"
      },
      "source": [
        "words=[\"apple\", \"swim\", \"clock\", \"me\", \"kiwi\", \"banana\"]\n",
        "for i in filter(lambda x: len(x)<5, words):\n",
        "  print(i)"
      ],
      "execution_count": null,
      "outputs": [
        {
          "output_type": "stream",
          "name": "stdout",
          "text": [
            "swim\n",
            "me\n",
            "kiwi\n"
          ]
        }
      ]
    },
    {
      "cell_type": "code",
      "metadata": {
        "id": "eqQ11LzPZpNA"
      },
      "source": [
        "liste=[\"1\",\"1\"]\n",
        "n=0\n",
        "toplam=[\"0\"]\n",
        "while int(toplam[0])<=58:\n",
        "  toplam=str(int(liste[n])+int(liste[n+1])\n",
        "  liste.append(toplam)\n",
        "  n=n+1\n",
        "print(liste)\n"
      ],
      "execution_count": null,
      "outputs": []
    },
    {
      "cell_type": "code",
      "metadata": {
        "colab": {
          "base_uri": "https://localhost:8080/"
        },
        "id": "ioDq20Eh-krG",
        "outputId": "5e65b097-06d4-4b34-d26d-eae04cbcc92e"
      },
      "source": [
        "liste=[\"1\",\"1\"]\n",
        "n=1\n",
        "toplam=[\"0\"]\n",
        "while int(liste[n])<58:\n",
        "  liste.append(str(int(liste[n])+int(liste[n-1])))\n",
        "  n=n+1\n",
        "liste.pop()\n",
        "print(liste)"
      ],
      "execution_count": null,
      "outputs": [
        {
          "output_type": "stream",
          "name": "stdout",
          "text": [
            "['1', '1', '2', '3', '5', '8', '13', '21', '34', '55']\n"
          ]
        }
      ]
    }
  ]
}