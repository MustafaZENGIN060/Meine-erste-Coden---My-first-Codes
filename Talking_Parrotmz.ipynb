{
  "nbformat": 4,
  "nbformat_minor": 0,
  "metadata": {
    "colab": {
      "name": "Talking Parrot.ipynb",
      "provenance": []
    },
    "kernelspec": {
      "name": "python3",
      "display_name": "Python 3"
    },
    "language_info": {
      "name": "python"
    }
  },
  "cells": [
    {
      "cell_type": "code",
      "execution_count": null,
      "metadata": {
        "colab": {
          "base_uri": "https://localhost:8080/"
        },
        "id": "dOSGUfyxGmW3",
        "outputId": "c34a172d-ed08-4010-bbc0-17615736d04b"
      },
      "outputs": [
        {
          "output_type": "stream",
          "name": "stdout",
          "text": [
            "papağan konuşuyor mu True/FalseFalse\n",
            "saat kaç?22\n",
            "True\n"
          ]
        }
      ],
      "source": [
        "talking= input(\"papağan konuşuyor mu True/False\")\n",
        "hour = int(input(\"saat kaç?\"))\n",
        "def parrot_trouble(talking, hour):\n",
        "  return (talking and (hour < 7 or hour > 20))\n",
        "print(parrot_trouble(talking, hour))"
      ]
    },
    {
      "cell_type": "code",
      "source": [
        "talking= str(input(\"papağan konuşuyor mu True/False\"))\n",
        "hour = int(input(\"saat kaç?\"))\n",
        "def parrot_trouble(talking, hour):\n",
        "  if talking == \"True\" :\n",
        "    if hour >= 21 and hour < 6:\n",
        "      sonuc = True\n",
        "    else :\n",
        "      sonuc = False\n",
        "  else :\n",
        "    sonuc = False\n",
        "  return (sonuc)\n",
        "\n",
        "print(parrot_trouble(talking, hour))"
      ],
      "metadata": {
        "colab": {
          "base_uri": "https://localhost:8080/"
        },
        "id": "BQcR6tUELjTC",
        "outputId": "21bf1aab-3701-4043-c042-cee52515b0a8"
      },
      "execution_count": null,
      "outputs": [
        {
          "output_type": "stream",
          "name": "stdout",
          "text": [
            "papağan konuşuyor mu True/FalseFalse\n",
            "saat kaç?20\n",
            "False\n"
          ]
        }
      ]
    },
    {
      "cell_type": "code",
      "source": [
        "def parrot_trouble(talking, hour):\n",
        "  if talking == \"True\" :\n",
        "    if hour >= 21 and hour <= 6:\n",
        "      sonuc = True\n",
        "    else :\n",
        "      sonuc = False\n",
        "  else :\n",
        "    sonuc = False\n",
        "  return (sonuc)"
      ],
      "metadata": {
        "id": "yEPSqIGgQqsz"
      },
      "execution_count": null,
      "outputs": []
    }
  ]
}