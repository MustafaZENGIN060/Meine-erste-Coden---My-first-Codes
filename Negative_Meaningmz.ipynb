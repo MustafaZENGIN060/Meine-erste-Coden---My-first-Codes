{
  "nbformat": 4,
  "nbformat_minor": 0,
  "metadata": {
    "colab": {
      "name": "Negatice Meaning.ipynb",
      "provenance": [],
      "collapsed_sections": []
    },
    "kernelspec": {
      "name": "python3",
      "display_name": "Python 3"
    },
    "language_info": {
      "name": "python"
    }
  },
  "cells": [
    {
      "cell_type": "code",
      "execution_count": 20,
      "metadata": {
        "colab": {
          "base_uri": "https://localhost:8080/"
        },
        "id": "mINgCFmz2CKP",
        "outputId": "9bea0450-7ca8-4d40-a419-89421632668b"
      },
      "outputs": [
        {
          "output_type": "stream",
          "name": "stdout",
          "text": [
            "bir kelime giriniznot deneme\n",
            "not deneme\n"
          ]
        }
      ],
      "source": [
        "word = str(input(\"bir kelime giriniz\"))\n",
        "str(word)\n",
        "list(word)\n",
        "try:\n",
        "  if word[0]+word[1]+word[2]+word[3] != \"not \":\n",
        "    word= (\"not\" + \" \" +word)\n",
        "  else : \n",
        "    word = word\n",
        "except IndexError:\n",
        "  word= (\"not\" + \" \" +word)\n",
        "print(word)"
      ]
    },
    {
      "cell_type": "code",
      "source": [
        "def not_string(word):\n",
        "  str(word)\n",
        "  list(word)\n",
        "  try:\n",
        "      if word[0]+word[1]+word[2]+word[3] != \"not \":\n",
        "          word= (\"not\" + \" \" +word)\n",
        "      else :\n",
        "          word = word\n",
        "  except IndexError:\n",
        "      word= (\"not\" + \" \" +word)\n",
        "  return(word)"
      ],
      "metadata": {
        "id": "yPXreh5c2py7"
      },
      "execution_count": null,
      "outputs": []
    }
  ]
}