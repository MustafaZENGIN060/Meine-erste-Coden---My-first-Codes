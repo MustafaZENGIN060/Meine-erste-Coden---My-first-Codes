{
  "nbformat": 4,
  "nbformat_minor": 0,
  "metadata": {
    "colab": {
      "name": "Anagram.ipynb",
      "provenance": [],
      "collapsed_sections": []
    },
    "kernelspec": {
      "name": "python3",
      "display_name": "Python 3"
    },
    "language_info": {
      "name": "python"
    }
  },
  "cells": [
    {
      "cell_type": "code",
      "metadata": {
        "id": "Ile46Ax_vymF",
        "colab": {
          "base_uri": "https://localhost:8080/"
        },
        "outputId": "dac32749-4795-4f1a-bfbb-90bd0883d0bb"
      },
      "source": [
        "n = int(input(\"kaç sayı gireceksiniz?\"))\n",
        "küme= set()\n",
        "a=1\n",
        "while a<=n:\n",
        "  yeni=int(input(\"yeni rakamı giriniz\"))\n",
        "  küme.add(yeni)\n",
        "  a=a+1\n",
        "Hadi=list(küme)\n",
        "maximum=Hadi[0]\n",
        "for x in Hadi:\n",
        "    if x > maximum:\n",
        "        maximum = x\n",
        "text= \"The largest number is: {}\".format(maximum)  \n",
        "print(text)\n",
        "\n",
        "\n"
      ],
      "execution_count": null,
      "outputs": [
        {
          "output_type": "stream",
          "name": "stdout",
          "text": [
            "kaç sayı gireceksiniz?9\n",
            "yeni rakamı giriniz5\n",
            "yeni rakamı giriniz1\n",
            "yeni rakamı giriniz0\n",
            "yeni rakamı giriniz9\n",
            "yeni rakamı giriniz4\n",
            "yeni rakamı giriniz8\n",
            "yeni rakamı giriniz6\n",
            "yeni rakamı giriniz1\n",
            "yeni rakamı giriniz3\n",
            "The largest number is: 9\n"
          ]
        }
      ]
    },
    {
      "cell_type": "code",
      "metadata": {
        "colab": {
          "base_uri": "https://localhost:8080/"
        },
        "id": "Ps9uYrcRcKcL",
        "outputId": "d3b5bd42-cc2d-40c9-dc5d-4a9dca4535ca"
      },
      "source": [
        "class Solution:\n",
        "   def groupAnagrams(self, strs):\n",
        "      result = {}\n",
        "      for i in strs:\n",
        "         x = \"\".join(sorted(i))\n",
        "         if x in result:\n",
        "            result[x].append(i)\n",
        "         else:\n",
        "            result[x] = [i]\n",
        "      return list(result.values())\n",
        "ob1 = Solution()\n",
        "print(ob1.groupAnagrams([\"eat\", \"tea\", \"tan\", \"ate\", \"nat\", \"bat\"]))"
      ],
      "execution_count": null,
      "outputs": [
        {
          "output_type": "stream",
          "name": "stdout",
          "text": [
            "[['eat', 'tea', 'ate'], ['tan', 'nat'], ['bat']]\n"
          ]
        }
      ]
    },
    {
      "cell_type": "code",
      "metadata": {
        "colab": {
          "base_uri": "https://localhost:8080/"
        },
        "id": "hdMXdLvTr5Tt",
        "outputId": "f4f519eb-b89a-451a-d790-f9792a2727a4"
      },
      "source": [
        "print(\"iki rakam giriniz\")\n",
        "küme= set()\n",
        "a=1\n",
        "while a<=2:\n",
        "  yeni=int(input(\"yeni rakamı giriniz\"))\n",
        "  küme.add(yeni)\n",
        "  a=a+1\n",
        "Hadi=list(küme)\n",
        "maximum=Hadi[0]\n",
        "for x in Hadi:\n",
        "    if x > maximum:\n",
        "        maximum = x\n",
        "text= \"The largest number is: {}\".format(maximum)  \n",
        "print(text)"
      ],
      "execution_count": null,
      "outputs": [
        {
          "output_type": "stream",
          "name": "stdout",
          "text": [
            "iki rakam giriniz\n",
            "yeni rakamı giriniz5\n",
            "yeni rakamı giriniz6\n",
            "The largest number is: 6\n"
          ]
        }
      ]
    },
    {
      "cell_type": "code",
      "metadata": {
        "colab": {
          "base_uri": "https://localhost:8080/"
        },
        "id": "DLwvqYFom_jj",
        "outputId": "59660278-dda3-4f2c-bb65-c8384e525dbc"
      },
      "source": [
        "college_years = ['Freshman', 'Sophomore', 'Junior', 'Senior']\n",
        "print(list(enumerate(college_years, 2019)))"
      ],
      "execution_count": null,
      "outputs": [
        {
          "output_type": "stream",
          "name": "stdout",
          "text": [
            "[(2019, 'Freshman'), (2020, 'Sophomore'), (2021, 'Junior'), (2022, 'Senior')]\n"
          ]
        }
      ]
    },
    {
      "cell_type": "code",
      "metadata": {
        "colab": {
          "base_uri": "https://localhost:8080/"
        },
        "id": "DvCd37g-nzUG",
        "outputId": "693a544d-548e-4914-8ca2-3288bfbed139"
      },
      "source": [
        "fruits = ['Apples', 'Oranges', 'Bananas']\n",
        "quantities = [5, 3, 4]\n",
        "prices = [1.50, 2.25, 0.89]\n",
        "output=[]\n",
        "fruit_tuple_0 = (fruits[0], quantities[0], prices[0])\n",
        "output.append(output)\n",
        "fruit_tuple_1 = (fruits[1], quantities[1], prices[1])\n",
        "output.append(output)\n",
        "fruit_tuple_2 = (fruits[2], quantities[2], prices[2])\n",
        "output.append(output)\n",
        "print(fruit_tuple_0, fruit_tuple_1, fruit_tuple_2)"
      ],
      "execution_count": null,
      "outputs": [
        {
          "output_type": "stream",
          "name": "stdout",
          "text": [
            "('Apples', 5, 1.5) ('Oranges', 3, 2.25) ('Bananas', 4, 0.89)\n"
          ]
        }
      ]
    },
    {
      "cell_type": "code",
      "metadata": {
        "colab": {
          "base_uri": "https://localhost:8080/"
        },
        "id": "m7t0JfzkoIo_",
        "outputId": "bc889f57-338e-40c9-dffe-3fe32620fe1a"
      },
      "source": [
        "fruits = ['Apples', 'Oranges', 'Bananas']\n",
        "quantities = [5, 3, 4]\n",
        "prices = [1.50, 2.25, 0.89]\n",
        "i = 0\n",
        "output = []\n",
        "for fruit in fruits:\n",
        "  temp_qty = quantities[i]\n",
        "  temp_price = prices[i]\n",
        "  output.append((fruit, temp_qty, temp_price))\n",
        "  i += 1\n",
        "print(output)"
      ],
      "execution_count": null,
      "outputs": [
        {
          "output_type": "stream",
          "name": "stdout",
          "text": [
            "[('Apples', 5, 1.5), ('Oranges', 3, 2.25), ('Bananas', 4, 0.89)]\n"
          ]
        }
      ]
    },
    {
      "cell_type": "code",
      "metadata": {
        "colab": {
          "base_uri": "https://localhost:8080/"
        },
        "id": "dTqBfww7oeAe",
        "outputId": "4228912d-b4c5-41b3-d190-85b3209c7b92"
      },
      "source": [
        "fruits = ['Apples', 'Oranges', 'Bananas']\n",
        "quantities = [5, 3, 4]\n",
        "prices = [1.50, 2.25, 0.89]\n",
        "groceries = zip(fruits, quantities, prices)\n",
        "print(list(groceries))"
      ],
      "execution_count": null,
      "outputs": [
        {
          "output_type": "stream",
          "name": "stdout",
          "text": [
            "[('Apples', 5, 1.5), ('Oranges', 3, 2.25), ('Bananas', 4, 0.89)]\n"
          ]
        }
      ]
    },
    {
      "cell_type": "code",
      "metadata": {
        "colab": {
          "base_uri": "https://localhost:8080/"
        },
        "id": "QC-vX28sokF3",
        "outputId": "c6dd5063-bab4-4dc5-db4a-686bb82b5e6a"
      },
      "source": [
        "fruits = ['Apples', 'Oranges', 'Bananas']\n",
        "quantities = [5, 3, 4]\n",
        "prices = [1.50, 2.25, 0.89]\n",
        "i = 0\n",
        "output = []\n",
        "for fruit in fruits:\n",
        "  for qty in quantities:\n",
        "    for price in prices:\n",
        "      output.append((fruit, qty, price))\n",
        "      i += 1\n",
        "print(output)"
      ],
      "execution_count": null,
      "outputs": [
        {
          "output_type": "stream",
          "name": "stdout",
          "text": [
            "[('Apples', 5, 1.5), ('Apples', 5, 2.25), ('Apples', 5, 0.89), ('Apples', 3, 1.5), ('Apples', 3, 2.25), ('Apples', 3, 0.89), ('Apples', 4, 1.5), ('Apples', 4, 2.25), ('Apples', 4, 0.89), ('Oranges', 5, 1.5), ('Oranges', 5, 2.25), ('Oranges', 5, 0.89), ('Oranges', 3, 1.5), ('Oranges', 3, 2.25), ('Oranges', 3, 0.89), ('Oranges', 4, 1.5), ('Oranges', 4, 2.25), ('Oranges', 4, 0.89), ('Bananas', 5, 1.5), ('Bananas', 5, 2.25), ('Bananas', 5, 0.89), ('Bananas', 3, 1.5), ('Bananas', 3, 2.25), ('Bananas', 3, 0.89), ('Bananas', 4, 1.5), ('Bananas', 4, 2.25), ('Bananas', 4, 0.89)]\n"
          ]
        }
      ]
    },
    {
      "cell_type": "code",
      "metadata": {
        "id": "exCswQtVWUgO"
      },
      "source": [
        ""
      ],
      "execution_count": null,
      "outputs": []
    },
    {
      "cell_type": "code",
      "metadata": {
        "id": "4ssWQr4wWXuv"
      },
      "source": [
        ""
      ],
      "execution_count": null,
      "outputs": []
    },
    {
      "cell_type": "code",
      "metadata": {
        "id": "31QsKcRmIqbn"
      },
      "source": [
        ""
      ],
      "execution_count": null,
      "outputs": []
    }
  ]
}