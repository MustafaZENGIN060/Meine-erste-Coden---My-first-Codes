{
  "cells": [
    {
      "cell_type": "code",
      "execution_count": null,
      "metadata": {
        "colab": {
          "background_save": true,
          "base_uri": "https://localhost:8080/"
        },
        "id": "2JyjRZc9vRmz",
        "outputId": "25d38d23-352c-43a2-efff-71358e1932da"
      },
      "outputs": [
        {
          "name": "stdout",
          "output_type": "stream",
          "text": [
            "[6.25]\n"
          ]
        }
      ],
      "source": [
        "def solution(string):\n",
        "    sonuc= list(string)\n",
        "    liste= list(string)\n",
        "    tersi= list(reversed(liste))\n",
        "    birleşti= \"\".join(tersi)\n",
        "    return(birleşti)"
      ]
    },
    {
      "cell_type": "code",
      "source": [
        "yazi= str(input(\"yazıyı giriniz\"))\n",
        "liste=list(yazi)\n",
        "tersi= list(reversed(liste))\n",
        "birleşti= \"\".join(tersi)\n",
        "print(birleşti)"
      ],
      "metadata": {
        "colab": {
          "base_uri": "https://localhost:8080/"
        },
        "id": "KNovHXZaZxn3",
        "outputId": "abfa213d-f2e5-4647-8964-74a0b64f3739"
      },
      "execution_count": 10,
      "outputs": [
        {
          "output_type": "stream",
          "name": "stdout",
          "text": [
            "yazıyı girinizdeneme\n",
            "emened\n"
          ]
        }
      ]
    }
  ],
  "metadata": {
    "colab": {
      "name": "Reversed Strings.ipynb",
      "provenance": []
    },
    "kernelspec": {
      "display_name": "Python 3",
      "name": "python3"
    },
    "language_info": {
      "name": "python"
    }
  },
  "nbformat": 4,
  "nbformat_minor": 0
}