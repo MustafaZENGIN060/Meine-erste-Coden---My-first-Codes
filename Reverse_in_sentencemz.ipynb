{
  "nbformat": 4,
  "nbformat_minor": 0,
  "metadata": {
    "colab": {
      "name": "Reverse_in_sentencemz.ipynb",
      "provenance": []
    },
    "kernelspec": {
      "name": "python3",
      "display_name": "Python 3"
    },
    "language_info": {
      "name": "python"
    }
  },
  "cells": [
    {
      "cell_type": "code",
      "execution_count": null,
      "metadata": {
        "id": "UhNE0qy2JPQL"
      },
      "outputs": [],
      "source": [
        "def Matt_is_num_one(cümle):\n",
        "  ayır = cümle.split(\" \")\n",
        "  tersi = [i[::-1] for i in ayır]\n",
        "  sonuc=\" \".join(tersi)\n",
        "  return(sonuc)\n",
        "  "
      ]
    },
    {
      "cell_type": "code",
      "source": [
        "cümle=input(str(\"cümleyi giriniz\"))\n",
        "ayır=cümle.split(\" \")\n",
        "tersi = [i[::-1] for i in ayır]\n",
        "sonuc=\" \".join(tersi)\n",
        "print(sonuc)\n",
        "    "
      ],
      "metadata": {
        "colab": {
          "base_uri": "https://localhost:8080/"
        },
        "id": "9VtPPK1GKPt8",
        "outputId": "84dab116-7de6-40ea-bcab-9171bcf3d45b"
      },
      "execution_count": 27,
      "outputs": [
        {
          "output_type": "stream",
          "name": "stdout",
          "text": [
            "cümleyi girinizBakalım simdi ne oldu\n",
            "mılakaB idmis en udlo\n"
          ]
        }
      ]
    }
  ]
}