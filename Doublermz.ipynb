{
  "nbformat": 4,
  "nbformat_minor": 0,
  "metadata": {
    "colab": {
      "name": "Doublermz.ipynb",
      "provenance": [],
      "collapsed_sections": []
    },
    "kernelspec": {
      "name": "python3",
      "display_name": "Python 3"
    },
    "language_info": {
      "name": "python"
    }
  },
  "cells": [
    {
      "cell_type": "code",
      "execution_count": 5,
      "metadata": {
        "colab": {
          "base_uri": "https://localhost:8080/"
        },
        "id": "H0-cbuV-YP_f",
        "outputId": "8adf1839-e458-4b25-ef9d-304369fe54b4"
      },
      "outputs": [
        {
          "output_type": "stream",
          "name": "stdout",
          "text": [
            "Toplamak istediğiniz birinci sayıyı giriniz5\n",
            "Toplamak istediğiniz ikinci sayıyı giriniz5\n",
            "20\n"
          ]
        }
      ],
      "source": [
        "x=int(input(\"Toplamak istediğiniz birinci sayıyı giriniz\"))\n",
        "y=int(input(\"Toplamak istediğiniz ikinci sayıyı giriniz\"))\n",
        "def sum_double(x, y):\n",
        "  if x==y:\n",
        "    sonuc= 2*(x+y)\n",
        "  else:\n",
        "    sonuc=(x+y)\n",
        "  return(sonuc)\n",
        "print(sum_double(x, y))\n",
        "\n"
      ]
    }
  ]
}