{
  "nbformat": 4,
  "nbformat_minor": 0,
  "metadata": {
    "colab": {
      "name": "Armstrong number.ipynb",
      "provenance": []
    },
    "kernelspec": {
      "name": "python3",
      "display_name": "Python 3"
    },
    "language_info": {
      "name": "python"
    }
  },
  "cells": [
    {
      "cell_type": "code",
      "metadata": {
        "id": "eOTvVOoE-k0V"
      },
      "source": [
        "numara= input(\"Lütfen bir sayı giriniz\")\n",
        "if numara.isdigit():\n",
        "  ayır=list(numara)\n",
        "  a=len(ayır)\n",
        "  toplam=0\n",
        "  count=0\n",
        "  while count<a:\n",
        "    toplam = toplam + (int(ayır[count])**a)\n",
        "    count=count+1\n",
        "  print(toplam)\n",
        "  if int(toplam) == int(numara):\n",
        "    text = \"{} is an Armstrong number\".format(numara) \n",
        "    print(text)\n",
        "  else:\n",
        "    text = \"{} is not an Armstrong number\".format(numara)\n",
        "    print(text)\n",
        "if not numara.isdigit():\n",
        "  print(\"It is an invalid entry. Don't use non-numeric, float, or negative values!\")"
      ],
      "execution_count": null,
      "outputs": []
    }
  ]
}