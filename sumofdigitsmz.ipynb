{
  "nbformat": 4,
  "nbformat_minor": 0,
  "metadata": {
    "colab": {
      "name": "sumofdigits.ipynb",
      "provenance": []
    },
    "kernelspec": {
      "name": "python3",
      "display_name": "Python 3"
    },
    "language_info": {
      "name": "python"
    }
  },
  "cells": [
    {
      "cell_type": "code",
      "execution_count": 7,
      "metadata": {
        "colab": {
          "base_uri": "https://localhost:8080/"
        },
        "id": "ZQ4l5axRaAL5",
        "outputId": "665b5b19-c3c5-42ab-f5c2-8a474490d339"
      },
      "outputs": [
        {
          "output_type": "stream",
          "name": "stdout",
          "text": [
            "sayıyı giriniz1234\n",
            "10.0\n"
          ]
        }
      ],
      "source": [
        "sayi=int(input(\"sayıyı giriniz\"))\n",
        "çevir=list(str(sayi))\n",
        "total=0.0\n",
        "for i in çevir:\n",
        "  total=total+int(i)\n",
        "print(total)\n",
        "\n"
      ]
    },
    {
      "cell_type": "code",
      "source": [
        "def sum_of_dig(sayi):\n",
        "  çevir=list(str(sayi))\n",
        "  total=0\n",
        "  for i in çevir:\n",
        "    total=total+int(i)\n",
        "  return(total)"
      ],
      "metadata": {
        "id": "iLtdEXXtaLDQ"
      },
      "execution_count": 12,
      "outputs": []
    },
    {
      "cell_type": "code",
      "source": [
        "sayi=int(input(\"sayıyı giriniz\"))\n",
        "print(sum_of_dig(sayi))"
      ],
      "metadata": {
        "colab": {
          "base_uri": "https://localhost:8080/"
        },
        "id": "kE9yvVyabdSn",
        "outputId": "aea2b73f-28d7-48c2-977f-13fc715f7c5d"
      },
      "execution_count": 13,
      "outputs": [
        {
          "output_type": "stream",
          "name": "stdout",
          "text": [
            "sayıyı giriniz1234\n",
            "10\n"
          ]
        }
      ]
    }
  ]
}