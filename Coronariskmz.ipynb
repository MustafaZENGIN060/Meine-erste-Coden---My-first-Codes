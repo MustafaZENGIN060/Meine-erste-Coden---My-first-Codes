{
  "nbformat": 4,
  "nbformat_minor": 0,
  "metadata": {
    "colab": {
      "name": "Coronarisk.ipynb",
      "provenance": [],
      "collapsed_sections": []
    },
    "kernelspec": {
      "name": "python3",
      "display_name": "Python 3"
    },
    "language_info": {
      "name": "python"
    }
  },
  "cells": [
    {
      "cell_type": "code",
      "metadata": {
        "colab": {
          "base_uri": "https://localhost:8080/"
        },
        "id": "BBA4Mr0jKDzp",
        "outputId": "7c3c2041-bb74-455d-97fc-a762e110c927"
      },
      "source": [
        "print(\"These are Yes or No Questions.\")\n",
        "print(\"It means that you can only answer with Yes or No\")\n",
        "age= str(input(\"Are you a cigarette addict older than 75 years old?\"))\n",
        "chronic = str(input(\"Do you have a severe chronic disease?\"))\n",
        "immune= str(input(\"Is your immune system too weak? \"))\n",
        "cevap = (\"Yes\",\"No\")\n",
        "No=(\"No\")\n",
        "if age not in cevap:\n",
        "  print(\"You can only response with Yes or No\" + \" The Answer will incorrect\")\n",
        "if age in No:\n",
        "  age=None\n",
        "if chronic not in cevap:\n",
        "  print(\"You can only response with Yes or No\" + \" The Answer will incorrect\")\n",
        "if chronic in No:\n",
        "  chronic=None\n",
        "if immune not in cevap:\n",
        "  print(\"You can only response with Yes or No\" + \" The Answer will incorrect\")\n",
        "if immune in No:\n",
        "  immune=None\n",
        "sonuc= bool(age or chronic or immune)\n",
        "print(sonuc)\n",
        "if sonuc:\n",
        "  print (\"You are in risky group\")\n",
        "else:\n",
        "  print(\"You are not in risky group\")\n"
      ],
      "execution_count": null,
      "outputs": [
        {
          "output_type": "stream",
          "name": "stdout",
          "text": [
            "These are Yes or No Questions.\n",
            "It means that you can only answer with Yes or No\n",
            "Are you a cigarette addict older than 75 years old?a\n",
            "Do you have a severe chronic disease?b\n",
            "Is your immune system too weak? c\n",
            "You can only response with Yes or No The Answer will incorrect\n",
            "You can only response with Yes or No The Answer will incorrect\n",
            "You can only response with Yes or No The Answer will incorrect\n",
            "True\n",
            "You are in risky group\n"
          ]
        }
      ]
    },
    {
      "cell_type": "code",
      "metadata": {
        "colab": {
          "base_uri": "https://localhost:8080/"
        },
        "id": "xIQV4uqlM2qs",
        "outputId": "8f5c4e6b-7499-418b-94b8-c07197c42bb3"
      },
      "source": [
        "bool(None)"
      ],
      "execution_count": null,
      "outputs": [
        {
          "output_type": "execute_result",
          "data": {
            "text/plain": [
              "False"
            ]
          },
          "metadata": {},
          "execution_count": 9
        }
      ]
    }
  ]
}