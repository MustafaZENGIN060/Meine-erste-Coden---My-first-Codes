{
  "nbformat": 4,
  "nbformat_minor": 0,
  "metadata": {
    "colab": {
      "name": "Missing Char.ipynb",
      "provenance": [],
      "collapsed_sections": []
    },
    "kernelspec": {
      "name": "python3",
      "display_name": "Python 3"
    },
    "language_info": {
      "name": "python"
    }
  },
  "cells": [
    {
      "cell_type": "code",
      "source": [
        "word = [\"d\",\"e\",\"n\",\"e\",\"m\",\"e\"]\n",
        "del word[2]\n",
        "print(\"\".join(word))"
      ],
      "metadata": {
        "colab": {
          "base_uri": "https://localhost:8080/"
        },
        "id": "bGUMh0OLy-23",
        "outputId": "1332b01d-3d83-4e43-f360-b6c6251ffed1"
      },
      "execution_count": 19,
      "outputs": [
        {
          "output_type": "stream",
          "name": "stdout",
          "text": [
            "deeme\n"
          ]
        }
      ]
    },
    {
      "cell_type": "code",
      "source": [
        "def missing_char(word, n):\n",
        "  kelime=list(str(word))\n",
        "  try:\n",
        "    del kelime[n]\n",
        "    kelime=\"\".join(kelime)\n",
        "    return(\"\".join(kelime))\n",
        "  except IndexError:\n",
        "    print(\"yanlış oldu hacı\")\n",
        "print(missing_char(\"deneme\", 2))"
      ],
      "metadata": {
        "colab": {
          "base_uri": "https://localhost:8080/"
        },
        "id": "xfEP-bR60nJA",
        "outputId": "ea522a81-f9d9-4a69-cebb-19f67da2378f"
      },
      "execution_count": 23,
      "outputs": [
        {
          "output_type": "stream",
          "name": "stdout",
          "text": [
            "deeme\n"
          ]
        }
      ]
    }
  ]
}