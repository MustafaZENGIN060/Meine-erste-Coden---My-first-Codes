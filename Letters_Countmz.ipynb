{
  "nbformat": 4,
  "nbformat_minor": 0,
  "metadata": {
    "colab": {
      "name": "Letters Countmz.ipynb",
      "provenance": [],
      "collapsed_sections": []
    },
    "kernelspec": {
      "name": "python3",
      "display_name": "Python 3"
    },
    "language_info": {
      "name": "python"
    }
  },
  "cells": [
    {
      "cell_type": "code",
      "execution_count": 10,
      "metadata": {
        "colab": {
          "base_uri": "https://localhost:8080/"
        },
        "id": "rPyhXWPIE8dW",
        "outputId": "884fabe0-4e2c-44a8-a257-428df6107651"
      },
      "outputs": [
        {
          "output_type": "stream",
          "name": "stdout",
          "text": [
            "Cümleyi girinizNaaber yavrum?\n",
            "{'N': 1, 'a': 3, 'b': 1, 'e': 1, 'r': 2, ' ': 1, 'y': 1, 'v': 1, 'u': 1, 'm': 1, '?': 1}\n"
          ]
        }
      ],
      "source": [
        "sentence= str(input(\"Cümleyi giriniz\"))\n",
        "sentence2=list(sentence)\n",
        "my_dict=dict()\n",
        "for i in sentence2:\n",
        "  menge=sentence2.count(i)\n",
        "  my_dict.update({i : menge})\n",
        "print(my_dict)\n"
      ]
    }
  ]
}