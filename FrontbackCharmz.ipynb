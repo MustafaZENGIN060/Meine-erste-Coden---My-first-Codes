{
  "nbformat": 4,
  "nbformat_minor": 0,
  "metadata": {
    "colab": {
      "name": "FrontbackCharmz.ipynb",
      "provenance": [],
      "collapsed_sections": []
    },
    "kernelspec": {
      "name": "python3",
      "display_name": "Python 3"
    },
    "language_info": {
      "name": "python"
    }
  },
  "cells": [
    {
      "cell_type": "code",
      "execution_count": null,
      "metadata": {
        "id": "o5D0d3_myFTZ"
      },
      "outputs": [],
      "source": [
        "def front_back(word):\n",
        "  liste=list(word)\n",
        "  baş=liste[0]\n",
        "  son = liste[len(liste)-1]\n",
        "  baş2=baş\n",
        "  liste[0]=son\n",
        "  liste[len(liste)-1]=baş2\n",
        "  son=baş2\n",
        "  word=''.join(liste)\n",
        "  return(word)\n",
        "\n"
      ]
    },
    {
      "cell_type": "code",
      "source": [
        "word=\"clarusway\"\n",
        "liste=list(word)\n",
        "baş = liste[0]\n",
        "son = liste[len(liste)-1]\n",
        "baş2=baş\n",
        "liste[0]=son\n",
        "liste[len(liste)-1]=baş2\n",
        "print(\"\".join(liste))\n"
      ],
      "metadata": {
        "colab": {
          "base_uri": "https://localhost:8080/"
        },
        "id": "FwlUDSBPzLmS",
        "outputId": "9b4dcd7f-f05d-4eec-e297-7dc041c22870"
      },
      "execution_count": 18,
      "outputs": [
        {
          "output_type": "stream",
          "name": "stdout",
          "text": [
            "ylaruswac\n"
          ]
        }
      ]
    }
  ]
}